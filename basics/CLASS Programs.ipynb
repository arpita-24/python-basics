{
 "cells": [
  {
   "cell_type": "code",
   "execution_count": 2,
   "metadata": {},
   "outputs": [
    {
     "name": "stdout",
     "output_type": "stream",
     "text": [
      "NAME:John Doe\n",
      "DEPARTMENT:SALES\n",
      "JOB ROLE:Manager\n"
     ]
    }
   ],
   "source": [
    "class Employee:\n",
    "    name = \"\"\n",
    "    department = \"\"\n",
    "    jobRole = \"\"\n",
    "    def __init__(self, name, dept, role):\n",
    "        self.name = name\n",
    "        self.department = dept\n",
    "        self.jobRole = role\n",
    "    \n",
    "    def show(self):\n",
    "        print(f\"NAME:{self.name}\\nDEPARTMENT:{self.department}\\nJOB ROLE:{self.jobRole}\")\n",
    "\n",
    "        \n",
    "emp1 = Employee(\"John Doe\", \"SALES\", \"Manager\")\n",
    "\n",
    "emp1.show()\n"
   ]
  },
  {
   "cell_type": "code",
   "execution_count": 28,
   "metadata": {},
   "outputs": [
    {
     "name": "stdout",
     "output_type": "stream",
     "text": [
      "ROLL:10\n",
      "MARKS:96\n"
     ]
    }
   ],
   "source": []
  },
  {
   "cell_type": "code",
   "execution_count": 5,
   "metadata": {},
   "outputs": [
    {
     "name": "stdout",
     "output_type": "stream",
     "text": [
      "Honda\n",
      "Maruti\n",
      "Hyundai\n"
     ]
    }
   ],
   "source": [
    "from abc import ABC, abstractmethod\n",
    " \n",
    "class Vehicle(ABC):\n",
    " \n",
    "    @abstractmethod\n",
    "    def showBrand(self):\n",
    "        pass\n",
    " \n",
    "class Honda(Vehicle):\n",
    " \n",
    "    # overriding abstract method\n",
    "    def showBrand(self):\n",
    "        print(\"Honda\")\n",
    " \n",
    "class Hyundai(Vehicle):\n",
    " \n",
    "    # overriding abstract method\n",
    "    def showBrand(self):\n",
    "        print(\"Hyundai\")\n",
    " \n",
    "class Maruti(Vehicle):\n",
    " \n",
    "    # overriding abstract method\n",
    "    def showBrand(self):\n",
    "        print(\"Maruti\")\n",
    " \n",
    " \n",
    "# Driver code\n",
    "H = Honda()\n",
    "H.showBrand()\n",
    " \n",
    "M = Maruti()\n",
    "M.showBrand()\n",
    " \n",
    "Hy = Hyundai()\n",
    "Hy.showBrand()"
   ]
  },
  {
   "cell_type": "code",
   "execution_count": 24,
   "metadata": {},
   "outputs": [
    {
     "name": "stdout",
     "output_type": "stream",
     "text": [
      "Enter sides of square:2\n",
      "Area of the Square is: 4\n",
      "Enter base of triangle:4\n",
      "Enter height of triangle:8\n",
      "Area of the Triangle is: 16.0\n",
      "Enter breadth of rectangle:5\n",
      "Enter length of rectangle:6\n",
      "Area of the Rectangle is: 30\n"
     ]
    }
   ],
   "source": [
    "# Demonstration of Abstraction\n",
    "from abc import ABC, abstractmethod\n",
    "\n",
    "class Shape(ABC):\n",
    "    def __init__(self, shape_name):\n",
    "        self.shape_name = shape_name\n",
    "        \n",
    "    @abstractmethod\n",
    "    def inputt(self):\n",
    "        pass\n",
    "        \n",
    "    @abstractmethod\n",
    "    def area(self):\n",
    "        pass\n",
    "    \n",
    "    @abstractmethod\n",
    "    def display(self):\n",
    "        print(f\"Area of the {self.shape_name} is: {self.area}\")\n",
    "    \n",
    "class Square(Shape):\n",
    "    \n",
    "    def __init__(self):\n",
    "        super().__init__(\"Square\")\n",
    "    \n",
    "    def inputt(self):\n",
    "        self.side = int(input(\"Enter sides of square:\"))\n",
    "        \n",
    "    def area(self):\n",
    "        self.area = self.side**2\n",
    "    \n",
    "    def display(self):\n",
    "        super().display()\n",
    "        \n",
    "class Triangle(Shape):\n",
    "    \n",
    "    def __init__(self):\n",
    "        super().__init__(\"Triangle\")\n",
    "    \n",
    "    def inputt(self):\n",
    "        self.base = int(input(\"Enter base of triangle:\"))\n",
    "        self.height = int(input(\"Enter height of triangle:\"))\n",
    "        \n",
    "    def area(self):\n",
    "        self.area = 0.5*self.base*self.height\n",
    "    \n",
    "    def display(self):\n",
    "        super().display()\n",
    "        \n",
    "class Rectangle(Shape):\n",
    "    \n",
    "    def __init__(self):\n",
    "        super().__init__(\"Rectangle\")\n",
    "    \n",
    "    def inputt(self):\n",
    "        self.breadth = int(input(\"Enter breadth of rectangle:\"))\n",
    "        self.length = int(input(\"Enter length of rectangle:\"))\n",
    "        \n",
    "    def area(self):\n",
    "        self.area = self.length*self.breadth\n",
    "    \n",
    "    def display(self):\n",
    "        super().display()\n",
    "        \n",
    "if __name__ == \"__main__\":\n",
    "    \n",
    "    s = Square()\n",
    "    s.inputt()\n",
    "    s.area()\n",
    "    s.display()\n",
    "    \n",
    "    t = Triangle()\n",
    "    t.inputt()\n",
    "    t.area()\n",
    "    t.display()\n",
    "    \n",
    "    r = Rectangle()\n",
    "    r.inputt()\n",
    "    r.area()\n",
    "    r.display()\n",
    "\n",
    "   "
   ]
  },
  {
   "cell_type": "code",
   "execution_count": 33,
   "metadata": {},
   "outputs": [
    {
     "name": "stdout",
     "output_type": "stream",
     "text": [
      "Enter the number of students:3\n",
      "Enter the Roll No of the student0:1\n",
      "Enter the Marks of the student0:67\n",
      "Enter the Roll No of the student1:2\n",
      "Enter the Marks of the student1:89\n",
      "Enter the Roll No of the student2:3\n",
      "Enter the Marks of the student2:98\n",
      "ROLL:1\n",
      "MARKS:67\n",
      "GRADE:B\n",
      "ROLL:2\n",
      "MARKS:89\n",
      "GRADE:B\n",
      "ROLL:3\n",
      "MARKS:98\n",
      "GRADE:O\n"
     ]
    }
   ],
   "source": [
    "class Student:\n",
    "    rollNo = 0\n",
    "   \n",
    "    def __init__(self, roll, m):\n",
    "        self.rollNo = roll\n",
    "        self.mark = m\n",
    "        \n",
    "    def calculate(self):\n",
    "        grade = \"F\"\n",
    "        if self.mark >90:\n",
    "            grade = \"O\"\n",
    "        else:\n",
    "            grade = \"B\"\n",
    "        \n",
    "        return grade\n",
    "            \n",
    "    def printDetails(self):\n",
    "        print(f\"ROLL:{self.rollNo}\\nMARKS:{self.mark}\")\n",
    "\n",
    "\n",
    "n = int(input(\"Enter the number of students:\"))\n",
    "studArr = []\n",
    "for i in range(n):\n",
    "    roll = int(input(f\"Enter the Roll No of the student{i}:\"))\n",
    "    mark = int(input(f\"Enter the Marks of the student{i}:\"))\n",
    "    studArr.append(Student(roll, mark))\n",
    "\n",
    "for s in studArr:\n",
    "    s.printDetails()\n",
    "    print(f\"GRADE:{s.calculate()}\")\n",
    "\n"
   ]
  },
  {
   "cell_type": "code",
   "execution_count": 38,
   "metadata": {},
   "outputs": [
    {
     "name": "stdout",
     "output_type": "stream",
     "text": [
      "CUSTOMER NAME:John Doe\n",
      "ACCOUNT NUMBER:HDFC10020221\n",
      "BALANCE:4000\n",
      "CUSTOMER NAME:Zara Khan\n",
      "ACCOUNT NUMBER:HDFC20020222\n",
      "BALANCE:2000\n",
      "CUSTOMER NAME:John Doe\n",
      "ACCOUNT NUMBER:HDFC10020221\n",
      "BALANCE:4200\n"
     ]
    },
    {
     "ename": "ValueError",
     "evalue": "MinBalanceException",
     "output_type": "error",
     "traceback": [
      "\u001b[1;31m---------------------------------------------------------------------------\u001b[0m",
      "\u001b[1;31mValueError\u001b[0m                                Traceback (most recent call last)",
      "\u001b[1;32m<ipython-input-38-3e4d62c03a82>\u001b[0m in \u001b[0;36m<module>\u001b[1;34m\u001b[0m\n\u001b[0;32m     42\u001b[0m \u001b[0macc1\u001b[0m\u001b[1;33m.\u001b[0m\u001b[0mdisplay\u001b[0m\u001b[1;33m(\u001b[0m\u001b[1;33m)\u001b[0m\u001b[1;33m\u001b[0m\u001b[1;33m\u001b[0m\u001b[0m\n\u001b[0;32m     43\u001b[0m \u001b[1;33m\u001b[0m\u001b[0m\n\u001b[1;32m---> 44\u001b[1;33m \u001b[0macc1\u001b[0m\u001b[1;33m.\u001b[0m\u001b[0mwithdraw\u001b[0m\u001b[1;33m(\u001b[0m\u001b[1;36m4000\u001b[0m\u001b[1;33m)\u001b[0m\u001b[1;33m\u001b[0m\u001b[1;33m\u001b[0m\u001b[0m\n\u001b[0m\u001b[0;32m     45\u001b[0m \u001b[0macc1\u001b[0m\u001b[1;33m.\u001b[0m\u001b[0mdisplay\u001b[0m\u001b[1;33m(\u001b[0m\u001b[1;33m)\u001b[0m\u001b[1;33m\u001b[0m\u001b[1;33m\u001b[0m\u001b[0m\n",
      "\u001b[1;32m<ipython-input-38-3e4d62c03a82>\u001b[0m in \u001b[0;36mwithdraw\u001b[1;34m(self, amt)\u001b[0m\n\u001b[0;32m     25\u001b[0m         \u001b[0mwithdrawal\u001b[0m \u001b[1;33m=\u001b[0m \u001b[0mself\u001b[0m\u001b[1;33m.\u001b[0m\u001b[0mBalance\u001b[0m \u001b[1;33m-\u001b[0m \u001b[0mamt\u001b[0m\u001b[1;33m\u001b[0m\u001b[1;33m\u001b[0m\u001b[0m\n\u001b[0;32m     26\u001b[0m         \u001b[1;32mif\u001b[0m \u001b[0mwithdrawal\u001b[0m\u001b[1;33m<\u001b[0m\u001b[1;36m1000\u001b[0m\u001b[1;33m:\u001b[0m\u001b[1;33m\u001b[0m\u001b[1;33m\u001b[0m\u001b[0m\n\u001b[1;32m---> 27\u001b[1;33m             \u001b[1;32mraise\u001b[0m \u001b[0mValueError\u001b[0m\u001b[1;33m(\u001b[0m\u001b[1;34m\"MinBalanceException\"\u001b[0m\u001b[1;33m)\u001b[0m\u001b[1;33m\u001b[0m\u001b[1;33m\u001b[0m\u001b[0m\n\u001b[0m\u001b[0;32m     28\u001b[0m         \u001b[1;32melse\u001b[0m\u001b[1;33m:\u001b[0m\u001b[1;33m\u001b[0m\u001b[1;33m\u001b[0m\u001b[0m\n\u001b[0;32m     29\u001b[0m             \u001b[0mself\u001b[0m\u001b[1;33m.\u001b[0m\u001b[0mBalance\u001b[0m \u001b[1;33m=\u001b[0m \u001b[0mself\u001b[0m\u001b[1;33m.\u001b[0m\u001b[0mBalance\u001b[0m \u001b[1;33m-\u001b[0m \u001b[0mamt\u001b[0m\u001b[1;33m\u001b[0m\u001b[1;33m\u001b[0m\u001b[0m\n",
      "\u001b[1;31mValueError\u001b[0m: MinBalanceException"
     ]
    }
   ],
   "source": [
    "class Account:\n",
    "    custName = \"\"\n",
    "    Acct_no = \"\"\n",
    "    Balance = 0\n",
    "   \n",
    "    def __init__(self, cname,accNo, b):\n",
    "        self.custName = cname\n",
    "        self.Acct_no = accNo\n",
    "        self.Balance = b\n",
    "        \n",
    "    def deposit(self, amt):\n",
    "        self.Balance += amt\n",
    "    \n",
    "    def transfer(self, ac2, amt):\n",
    "        transfer_from = ac2.Balance - amt\n",
    "        tranfer_to = self.Balance + amt\n",
    "        \n",
    "        if transfer_from<1000 or tranfer_to < 1000:\n",
    "            raise ValueError(\"MinBalanceException\")\n",
    "        else:\n",
    "            self.Balance = self.Balance + amt\n",
    "            ac2.Balance = ac2.Balance - amt\n",
    "            \n",
    "    def withdraw(self,amt):\n",
    "        withdrawal = self.Balance - amt\n",
    "        if withdrawal<1000:\n",
    "            raise ValueError(\"MinBalanceException\")\n",
    "        else:\n",
    "            self.Balance = self.Balance - amt\n",
    "    \n",
    "    def display(self):\n",
    "        print(f\"CUSTOMER NAME:{self.custName}\\nACCOUNT NUMBER:{self.Acct_no}\\nBALANCE:{self.Balance}\")\n",
    "\n",
    "acc1 = Account(\"John Doe\",\"HDFC10020221\",4000)\n",
    "\n",
    "acc2 = Account(\"Zara Khan\",\"HDFC20020222\",2000)\n",
    "\n",
    "acc1.display()\n",
    "acc2.display()\n",
    "\n",
    "acc1.deposit(200)\n",
    "acc1.display()\n",
    "\n",
    "acc1.withdraw(4000)\n",
    "acc1.display()"
   ]
  },
  {
   "cell_type": "code",
   "execution_count": null,
   "metadata": {},
   "outputs": [],
   "source": []
  }
 ],
 "metadata": {
  "kernelspec": {
   "display_name": "Python 3",
   "language": "python",
   "name": "python3"
  },
  "language_info": {
   "codemirror_mode": {
    "name": "ipython",
    "version": 3
   },
   "file_extension": ".py",
   "mimetype": "text/x-python",
   "name": "python",
   "nbconvert_exporter": "python",
   "pygments_lexer": "ipython3",
   "version": "3.7.6"
  }
 },
 "nbformat": 4,
 "nbformat_minor": 4
}
