{
 "cells": [
  {
   "cell_type": "code",
   "execution_count": null,
   "metadata": {},
   "outputs": [],
   "source": [
    "#Proprietary content. ©Great Learning. All Rights Reserved. Unauthorized use or distribution prohibited"
   ]
  },
  {
   "cell_type": "code",
   "execution_count": null,
   "metadata": {},
   "outputs": [],
   "source": [
    "#check even odd"
   ]
  },
  {
   "cell_type": "code",
   "execution_count": null,
   "metadata": {},
   "outputs": [],
   "source": [
    "num = int(input(\"Enter a number: \"))\n",
    "if (num % 2) == 0:\n",
    "   print(num, \" is even\")\n",
    "else:\n",
    "   print(num, \" is odd\")"
   ]
  },
  {
   "cell_type": "code",
   "execution_count": null,
   "metadata": {},
   "outputs": [],
   "source": [
    "#check positive, negative or 0"
   ]
  },
  {
   "cell_type": "code",
   "execution_count": null,
   "metadata": {},
   "outputs": [],
   "source": [
    "num = float(input(\"Enter a number: \"))\n",
    "if num > 0:\n",
    "   print(\"Positive number\")\n",
    "elif num == 0:\n",
    "   print(\"Zero\")\n",
    "else:\n",
    "   print(\"Negative number\")"
   ]
  },
  {
   "cell_type": "code",
   "execution_count": null,
   "metadata": {},
   "outputs": [],
   "source": [
    "#Factorial of a number"
   ]
  },
  {
   "cell_type": "code",
   "execution_count": null,
   "metadata": {},
   "outputs": [],
   "source": [
    "\n",
    "factorial = 1\n",
    "# check if the number is negative, positive or zero\n",
    "if num < 0:\n",
    "   print(\"Sorry, factorial does not exist for negative numbers\")\n",
    "elif num == 0:\n",
    "   print(\"The factorial of 0 is 1\")\n",
    "else:\n",
    "   for i in range(1,num + 1):\n",
    "       factorial = factorial*i\n",
    "   print(\"The factorial of\",num,\"is\",factorial)"
   ]
  },
  {
   "cell_type": "code",
   "execution_count": null,
   "metadata": {},
   "outputs": [],
   "source": [
    "#Reversing a number"
   ]
  },
  {
   "cell_type": "code",
   "execution_count": null,
   "metadata": {},
   "outputs": [],
   "source": [
    "n=int(input(\"Enter number: \"))\n",
    "rev=0\n",
    "while(n>0):\n",
    "    dig=n%10\n",
    "    rev=rev*10+dig\n",
    "    n=n//10\n",
    "print(\"Reverse of the number:\",rev)"
   ]
  },
  {
   "cell_type": "code",
   "execution_count": null,
   "metadata": {},
   "outputs": [],
   "source": [
    "#Check if it is a palindrome"
   ]
  },
  {
   "cell_type": "code",
   "execution_count": null,
   "metadata": {},
   "outputs": [],
   "source": [
    "n=int(input(\"Enter number:\"))\n",
    "temp=n\n",
    "rev=0\n",
    "while(n>0):\n",
    "    dig=n%10\n",
    "    rev=rev*10+dig\n",
    "    n=n//10\n",
    "if(temp==rev):\n",
    "    print(\"The number is a palindrome!\")\n",
    "else:\n",
    "    print(\"The number isn't a palindrome!\")"
   ]
  },
  {
   "cell_type": "code",
   "execution_count": null,
   "metadata": {},
   "outputs": [],
   "source": [
    "#fibonacci - 0 1 1 2 3 5 8......."
   ]
  },
  {
   "cell_type": "code",
   "execution_count": 16,
   "metadata": {},
   "outputs": [
    {
     "name": "stdout",
     "output_type": "stream",
     "text": [
      "Enter number:3\n",
      "1\n"
     ]
    }
   ],
   "source": [
    "n=int(input(\"Enter number:\"))\n",
    "a = 0\n",
    "b = 1\n",
    "if n < 0: \n",
    "    print(\"Incorrect input\") \n",
    "elif n == 0: \n",
    "    print(a)\n",
    "elif n == 1: \n",
    "    print(a) \n",
    "else: \n",
    "    for i in range(2,n): \n",
    "        c = a + b \n",
    "        a = b \n",
    "        b = c \n",
    "    print(b) "
   ]
  },
  {
   "cell_type": "code",
   "execution_count": 2,
   "metadata": {},
   "outputs": [
    {
     "name": "stdout",
     "output_type": "stream",
     "text": [
      "\n",
      "\n",
      "1 \n",
      "\n",
      "2 2 \n",
      "\n",
      "3 3 3 \n",
      "\n",
      "4 4 4 4 \n",
      "\n",
      "5 5 5 5 5 \n",
      "\n"
     ]
    }
   ],
   "source": [
    "# 10 is the total number to print\n",
    "for num in range(6):\n",
    "    for i in range(num):\n",
    "        print (num,end=\" \") #print number\n",
    "    # new line after each row to display pattern correctly\n",
    "    print(\"\\n\")"
   ]
  },
  {
   "cell_type": "code",
   "execution_count": 7,
   "metadata": {},
   "outputs": [
    {
     "name": "stdout",
     "output_type": "stream",
     "text": [
      "1\n"
     ]
    }
   ],
   "source": [
    "txt = \"ABCDCDC\"\n",
    "\n",
    "x = txt.count(\"CDC\")\n",
    "\n",
    "print(x)\n"
   ]
  },
  {
   "cell_type": "code",
   "execution_count": 9,
   "metadata": {},
   "outputs": [
    {
     "name": "stdout",
     "output_type": "stream",
     "text": [
      "ABCDCDC\n",
      "CDC\n",
      "1\n"
     ]
    }
   ],
   "source": [
    "def count_substring(string, sub_string):\n",
    "    j=0\n",
    "    ctr=0\n",
    "    for i in range(len(string)):\n",
    "        if string[i] == sub_string[j] and j<len(sub_string):\n",
    "            j=j+1\n",
    "        else:\n",
    "            j=0\n",
    "            \n",
    "        if j==3:\n",
    "            ctr=ctr+1\n",
    "            j=0\n",
    "    \n",
    "    return ctr\n",
    "if __name__ == '__main__':\n",
    "    string = input().strip()\n",
    "    sub_string = input().strip()\n",
    "    \n",
    "    count = count_substring(string, sub_string)\n",
    "    print(count)"
   ]
  },
  {
   "cell_type": "code",
   "execution_count": 10,
   "metadata": {},
   "outputs": [
    {
     "name": "stdout",
     "output_type": "stream",
     "text": [
      "['CDC']\n"
     ]
    }
   ],
   "source": [
    "import re\n",
    "\n",
    "#Return a list containing every occurrence of \"ai\":\n",
    "\n",
    "txt = \"ABCDCDC\"\n",
    "x = re.findall(\"CDC\", txt)\n",
    "print(x)\n"
   ]
  },
  {
   "cell_type": "code",
   "execution_count": 11,
   "metadata": {},
   "outputs": [
    {
     "name": "stdout",
     "output_type": "stream",
     "text": [
      "Hello\n"
     ]
    }
   ],
   "source": [
    "if 'CDC' in 'ABCDCDC':\n",
    "    print(\"Hello\")"
   ]
  },
  {
   "cell_type": "code",
   "execution_count": 5,
   "metadata": {},
   "outputs": [
    {
     "name": "stdout",
     "output_type": "stream",
     "text": [
      "4\n"
     ]
    }
   ],
   "source": [
    "print((9//2))"
   ]
  },
  {
   "cell_type": "code",
   "execution_count": 12,
   "metadata": {},
   "outputs": [
    {
     "data": {
      "text/plain": [
       "'b'"
      ]
     },
     "execution_count": 12,
     "metadata": {},
     "output_type": "execute_result"
    }
   ],
   "source": [
    "chr(ord(\"e\")-3)"
   ]
  },
  {
   "cell_type": "code",
   "execution_count": 14,
   "metadata": {},
   "outputs": [
    {
     "data": {
      "text/plain": [
       "'c'"
      ]
     },
     "execution_count": 14,
     "metadata": {},
     "output_type": "execute_result"
    }
   ],
   "source": [
    "chr(97+2)"
   ]
  },
  {
   "cell_type": "code",
   "execution_count": 9,
   "metadata": {},
   "outputs": [
    {
     "name": "stdout",
     "output_type": "stream",
     "text": [
      "heyy  got to  go\n",
      "['heyy', '', 'got', 'to', '', 'go']\n"
     ]
    }
   ],
   "source": [
    "#L = [\"J\",\"o\",\"e\"]\n",
    "#res = \" \".join(L)\n",
    "#print(res)\n",
    "#print(L.index(L[0]))\n",
    "def strip(w):\n",
    "    return w.strip()\n",
    "\n",
    "l = input()\n",
    "for i in l:\n",
    "    if i != \" \":\n",
    "        if "
   ]
  },
  {
   "cell_type": "code",
   "execution_count": 26,
   "metadata": {},
   "outputs": [
    {
     "name": "stdout",
     "output_type": "stream",
     "text": [
      "1 2 2 3 4 5 6 7 8  9\n"
     ]
    }
   ],
   "source": [
    "def solve(s):\n",
    "    words = s.title()\n",
    "    ctr = 0\n",
    "    for i in range(len(words)):\n",
    "        if words[i].isnumeric() and i!=len(words)-1:\n",
    "            if words[i+1].isupper()==True:\n",
    "                print(words[i],end=\" \")\n",
    "                ctr += 1\n",
    "                res = words[:i+1]+words[i+1].lower()+words[i+2:]\n",
    "    \n",
    "    if ctr == 0:\n",
    "        return words\n",
    "    else:\n",
    "        return res\n",
    "out = solve(\"1 2 2 3 4 5 6 7 8  9\")\n",
    "print(out)"
   ]
  },
  {
   "cell_type": "code",
   "execution_count": 7,
   "metadata": {},
   "outputs": [
    {
     "name": "stdout",
     "output_type": "stream",
     "text": [
      "banana\n",
      "['ana', 'a', 'an', 'anan']\n",
      "['n', 'ba', 'bana', 'ban', 'na', 'nana', 'banana', 'banan', 'nan', 'b']\n",
      "ana ---> 1\n",
      "a ---> 3\n",
      "an ---> 2\n",
      "anan ---> 1\n"
     ]
    }
   ],
   "source": [
    "def minion_game(string):\n",
    "    # your code goes here\n",
    "    ctr = 0\n",
    "    kevin = []\n",
    "    stuart = []\n",
    "    kevin_score = 0\n",
    "    stuart_score = 0\n",
    "    for i in range(len(string)):\n",
    "        #print(i)\n",
    "        ctr=i+1\n",
    "        if string[i] in [\"a\",\"e\",\"i\",\"o\",\"u\"]:\n",
    "            #print(string[i])\n",
    "            while ctr != len(string):\n",
    "                #print(ctr,\"-->\",string[i:ctr])\n",
    "                kevin.append(string[i:ctr])\n",
    "                ctr += 1\n",
    "        else:\n",
    "            while ctr <= len(string):\n",
    "                #print(ctr,\"-->\",string[i:ctr])\n",
    "                stuart.append(string[i:ctr])\n",
    "                ctr += 1\n",
    "                \n",
    "    kevin = list(set(kevin))\n",
    "    print(kevin)\n",
    "    stuart = list(set(stuart))\n",
    "    print(stuart)        \n",
    "        \n",
    "    for word in kevin:\n",
    "        kevin_score += string.count(word)\n",
    "        print(word,\"--->\",string.count(word))\n",
    "    \n",
    "    for word in stuart:\n",
    "        stuart_score += string.count(word)\n",
    "        \n",
    "    \n",
    "    \n",
    "    '''if kevin_score > stuart_score:\n",
    "        print(\"KEVIN \",kevin_score)\n",
    "    elif kevin_score < stuart_score:\n",
    "        print(\"STUART \",stuart_score)\n",
    "    else:\n",
    "        print(\"DRAW\")'''\n",
    "    #print(\"STUART = {} & KEVIN = {}\".format(stuart_score,kevin_score))\n",
    "                      \n",
    "    \n",
    "                \n",
    "                \n",
    "if __name__ == '__main__':\n",
    "    s = input()\n",
    "    minion_game(s)"
   ]
  },
  {
   "cell_type": "code",
   "execution_count": 16,
   "metadata": {},
   "outputs": [
    {
     "name": "stdout",
     "output_type": "stream",
     "text": [
      "H\n",
      "e\n",
      "l\n",
      "l\n",
      "o\n",
      " \n",
      "W\n",
      "o\n",
      "r\n",
      "l\n",
      "d\n"
     ]
    }
   ],
   "source": [
    "ctr = 0\n",
    "string = \"Hello World\"\n",
    "while ctr != (len(string)):\n",
    "    print(string[ctr],end=\" \")\n",
    "    ctr += 1"
   ]
  },
  {
   "cell_type": "code",
   "execution_count": 13,
   "metadata": {},
   "outputs": [
    {
     "name": "stdout",
     "output_type": "stream",
     "text": [
      "STUART 12\n"
     ]
    }
   ],
   "source": [
    "def minion_game(string):\n",
    "    strng = string.lower()\n",
    "    ctr = 0\n",
    "    words = []\n",
    "    for i in range(len(strng)):\n",
    "        ctr=i+1\n",
    "        while ctr <= len(strng):\n",
    "            #print(ctr,\"-->\",string[i:ctr])\n",
    "            words.append(strng[i:ctr])\n",
    "            ctr += 1\n",
    "\n",
    "    kevin_score = 0\n",
    "    stuart_score = 0\n",
    "    #print(words)\n",
    "    set_words = set(words)\n",
    "    #print(set_words)\n",
    "\n",
    "    c = 0\n",
    "    word_dict = {}\n",
    "    for word in set_words:\n",
    "        c = 0\n",
    "        for w in words:\n",
    "            if word == w:\n",
    "                c += 1\n",
    "        word_dict[word] = c\n",
    "\n",
    "\n",
    "    for key in word_dict.keys():\n",
    "        if key[0] in [\"a\",\"e\",\"i\",\"o\",\"u\"]:\n",
    "            kevin_score += word_dict[key]\n",
    "        else:\n",
    "            stuart_score += word_dict[key]\n",
    "\n",
    "    if kevin_score > stuart_score:\n",
    "        print(\"KEVIN {}\".format(kevin_score))\n",
    "    elif stuart_score > kevin_score:\n",
    "        print(\"STUART {}\".format(stuart_score))\n",
    "    else:\n",
    "        print(\"DRAW\")\n",
    "    \n",
    "minion_game(\"banana\")"
   ]
  },
  {
   "cell_type": "code",
   "execution_count": 25,
   "metadata": {},
   "outputs": [
    {
     "name": "stdout",
     "output_type": "stream",
     "text": [
      "{1, 2, 3, 5, 6}\n",
      "{1, 2, 3, 5, 6}\n"
     ]
    }
   ],
   "source": [
    "numbers = [1,2,1,3,2,1,1,3,5,6,1]\n",
    "num_set = set(numbers)\n",
    "print(num_set)\n",
    "print(num_set)"
   ]
  },
  {
   "cell_type": "code",
   "execution_count": 18,
   "metadata": {},
   "outputs": [
    {
     "data": {
      "text/plain": [
       "0"
      ]
     },
     "execution_count": 18,
     "metadata": {},
     "output_type": "execute_result"
    }
   ],
   "source": [
    "0%8"
   ]
  },
  {
   "cell_type": "code",
   "execution_count": 24,
   "metadata": {},
   "outputs": [
    {
     "name": "stdout",
     "output_type": "stream",
     "text": [
      "----c----\n",
      "--b-c-b--\n",
      "--b-c-b--\n",
      "--b-c-b--\n",
      "--b-c-b--\n"
     ]
    }
   ],
   "source": [
    "ctr = 0\n",
    "print(\"c\".center(9,\"-\"))\n",
    "while ctr <=3:\n",
    "    txt=\"b-c-b\"\n",
    "    print(txt.center(9,\"-\"))\n",
    "    ctr += 1"
   ]
  },
  {
   "cell_type": "code",
   "execution_count": null,
   "metadata": {},
   "outputs": [],
   "source": []
  }
 ],
 "metadata": {
  "kernelspec": {
   "display_name": "Python 3",
   "language": "python",
   "name": "python3"
  },
  "language_info": {
   "codemirror_mode": {
    "name": "ipython",
    "version": 3
   },
   "file_extension": ".py",
   "mimetype": "text/x-python",
   "name": "python",
   "nbconvert_exporter": "python",
   "pygments_lexer": "ipython3",
   "version": "3.7.6"
  }
 },
 "nbformat": 4,
 "nbformat_minor": 2
}
