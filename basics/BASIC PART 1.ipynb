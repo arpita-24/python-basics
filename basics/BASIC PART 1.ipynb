{
 "cells": [
  {
   "cell_type": "markdown",
   "metadata": {},
   "source": [
    "# Write a Python program which accepts a sequence of comma-separated numbers from user and generate a list and a tuple with those numbers."
   ]
  },
  {
   "cell_type": "code",
   "execution_count": 2,
   "metadata": {},
   "outputs": [
    {
     "name": "stdout",
     "output_type": "stream",
     "text": [
      "Enter comma separated numbers: 1,2,3,4\n",
      "LIST:  ['1', '2', '3', '4']\n",
      "TUPLE:  ('1', '2', '3', '4')\n"
     ]
    }
   ],
   "source": [
    "values=input(\"Enter comma separated numbers: \")\n",
    "lst=values.split(',')\n",
    "tupl=tuple(lst)\n",
    "print(\"LIST: \",lst)\n",
    "print(\"TUPLE: \", tupl)"
   ]
  },
  {
   "cell_type": "markdown",
   "metadata": {},
   "source": [
    "# Write a Python program to accept a filename from the user and print the extension of that. Go to the editor\n",
    "Sample filename : abc.java"
   ]
  },
  {
   "cell_type": "code",
   "execution_count": 7,
   "metadata": {},
   "outputs": [
    {
     "name": "stdout",
     "output_type": "stream",
     "text": [
      "Enter your filename: abc.java\n",
      "The extension is:  'java'\n"
     ]
    }
   ],
   "source": [
    "filename=input(\"Enter your filename: \")\n",
    "extension=filename.split('.')\n",
    "print(\"The extension is: \",repr(extension[-1]))"
   ]
  },
  {
   "cell_type": "markdown",
   "metadata": {},
   "source": [
    "# Write a Python program to display the first and last colors from the following list. color_list = [\"Red\",\"Green\",\"White\" ,\"Black\"]"
   ]
  },
  {
   "cell_type": "code",
   "execution_count": 8,
   "metadata": {},
   "outputs": [
    {
     "name": "stdout",
     "output_type": "stream",
     "text": [
      "First Color:  Red\n",
      "Last Color:  Black\n"
     ]
    }
   ],
   "source": [
    "color_list=[\"Red\",\"Green\",\"White\",\"Black\"]\n",
    "print(\"First Color: \",color_list[0])\n",
    "print(\"Last Color: \",color_list[-1])"
   ]
  },
  {
   "cell_type": "markdown",
   "metadata": {},
   "source": [
    "# Write a Python program to display the examination schedule. (extract the date from exam_st_date)."
   ]
  },
  {
   "cell_type": "code",
   "execution_count": 10,
   "metadata": {},
   "outputs": [
    {
     "name": "stdout",
     "output_type": "stream",
     "text": [
      "11/12/2014\n"
     ]
    }
   ],
   "source": [
    "exam_st_date=(11,12,2014)\n",
    "print(\"%s/%s/%s\"%(exam_st_date[0],exam_st_date[1],exam_st_date[2]))"
   ]
  },
  {
   "cell_type": "markdown",
   "metadata": {},
   "source": [
    "# Write a Python program that accepts an integer (n) and computes the value of n+nn+nnn."
   ]
  },
  {
   "cell_type": "code",
   "execution_count": 14,
   "metadata": {},
   "outputs": [
    {
     "name": "stdout",
     "output_type": "stream",
     "text": [
      "Enter any no. 'n': 5\n",
      "RESULT= 615\n"
     ]
    }
   ],
   "source": [
    "n=int(input(\"Enter any no. 'n': \"))\n",
    "res=(n)+(10*n+n)+(100*n+10*n+n)\n",
    "print(\"RESULT=\",res)"
   ]
  },
  {
   "cell_type": "markdown",
   "metadata": {},
   "source": [
    "# Write a Python program to print the documents (syntax, description etc.) of Python built-in function(s)."
   ]
  },
  {
   "cell_type": "code",
   "execution_count": 1,
   "metadata": {},
   "outputs": [
    {
     "name": "stdout",
     "output_type": "stream",
     "text": [
      "Return the absolute value of the argument.\n"
     ]
    }
   ],
   "source": [
    "print(abs.__doc__)"
   ]
  },
  {
   "cell_type": "code",
   "execution_count": 2,
   "metadata": {},
   "outputs": [
    {
     "name": "stdout",
     "output_type": "stream",
     "text": [
      "Equivalent to x**y (with two arguments) or x**y % z (with three arguments)\n",
      "\n",
      "Some types, such as ints, are able to use a more efficient algorithm when\n",
      "invoked using the three argument form.\n"
     ]
    }
   ],
   "source": [
    "print(pow.__doc__)"
   ]
  },
  {
   "cell_type": "markdown",
   "metadata": {},
   "source": [
    "# Write a Python program to print the calendar of a given month and year."
   ]
  },
  {
   "cell_type": "code",
   "execution_count": 4,
   "metadata": {},
   "outputs": [
    {
     "name": "stdout",
     "output_type": "stream",
     "text": [
      "Enter the year: 2021\n",
      "Enter the month: 4\n",
      "     April 2021\n",
      "Mo Tu We Th Fr Sa Su\n",
      "          1  2  3  4\n",
      " 5  6  7  8  9 10 11\n",
      "12 13 14 15 16 17 18\n",
      "19 20 21 22 23 24 25\n",
      "26 27 28 29 30\n",
      "\n"
     ]
    }
   ],
   "source": [
    "import calendar\n",
    "y=int(input(\"Enter the year: \"))\n",
    "m=int(input(\"Enter the month: \"))\n",
    "print(calendar.month(y,m))"
   ]
  },
  {
   "cell_type": "code",
   "execution_count": 7,
   "metadata": {},
   "outputs": [
    {
     "name": "stdout",
     "output_type": "stream",
     "text": [
      "No. of days =  9\n"
     ]
    }
   ],
   "source": [
    "from datetime import date\n",
    "f_date=date(2014,7,2)\n",
    "l_date=date(2014,7,11)\n",
    "d=l_date-f_date\n",
    "print(\"No. of days = \",d.days)"
   ]
  },
  {
   "cell_type": "markdown",
   "metadata": {},
   "source": [
    "# Write a Python program to get the difference between a given number and 17, if the number is greater than 17 return double the absolute difference."
   ]
  },
  {
   "cell_type": "code",
   "execution_count": 8,
   "metadata": {},
   "outputs": [
    {
     "name": "stdout",
     "output_type": "stream",
     "text": [
      "Enter a no. = 47\n",
      "Res =  60\n"
     ]
    }
   ],
   "source": [
    "n=int(input(\"Enter a no. = \"))\n",
    "if n>17:\n",
    "    print(\"Res = \",2*(n-17))\n",
    "else:\n",
    "    print(\"Res = \",-(17-n))"
   ]
  },
  {
   "cell_type": "code",
   "execution_count": 9,
   "metadata": {},
   "outputs": [
    {
     "name": "stdout",
     "output_type": "stream",
     "text": [
      "Enter a no. = 7\n",
      "Res =  -10\n"
     ]
    }
   ],
   "source": [
    "n=int(input(\"Enter a no. = \"))\n",
    "if n>17:\n",
    "    print(\"Res = \",2*(n-17))\n",
    "else:\n",
    "    print(\"Res = \",-(17-n))"
   ]
  },
  {
   "cell_type": "markdown",
   "metadata": {},
   "source": [
    "#  Write a Python program to calculate the sum of three given numbers, if the values are equal then return three times of their sum."
   ]
  },
  {
   "cell_type": "code",
   "execution_count": 13,
   "metadata": {},
   "outputs": [
    {
     "name": "stdout",
     "output_type": "stream",
     "text": [
      "Enter 3 numbers: 10 20 30\n",
      "60\n"
     ]
    }
   ],
   "source": [
    "a,b,c=input(\"Enter 3 numbers: \").split()\n",
    "x=int(a)\n",
    "y=int(b)\n",
    "z=int(c)\n",
    "if x==y & y==z:\n",
    "    print(3*(x+y+z))\n",
    "else:\n",
    "    print(x+y+z)"
   ]
  },
  {
   "cell_type": "code",
   "execution_count": 14,
   "metadata": {},
   "outputs": [
    {
     "name": "stdout",
     "output_type": "stream",
     "text": [
      "Enter 3 numbers: 10 10 10\n",
      "90\n"
     ]
    }
   ],
   "source": [
    "a,b,c=input(\"Enter 3 numbers: \").split()\n",
    "x=int(a)\n",
    "y=int(b)\n",
    "z=int(c)\n",
    "if x==y & y==z:\n",
    "    print(3*(x+y+z))\n",
    "else:\n",
    "    print(x+y+z)"
   ]
  },
  {
   "cell_type": "code",
   "execution_count": null,
   "metadata": {},
   "outputs": [],
   "source": []
  },
  {
   "cell_type": "code",
   "execution_count": 7,
   "metadata": {},
   "outputs": [
    {
     "name": "stdout",
     "output_type": "stream",
     "text": [
      "A \n",
      "A B \n",
      "A B C \n",
      "A B C D \n"
     ]
    }
   ],
   "source": [
    "l = ['A','B','C','D']\n",
    "for i in range(len(l)):\n",
    "    for j in range(i+1):\n",
    "        print(l[j],end=\" \")\n",
    "    print()"
   ]
  },
  {
   "cell_type": "code",
   "execution_count": 29,
   "metadata": {},
   "outputs": [
    {
     "name": "stdout",
     "output_type": "stream",
     "text": [
      "        \n",
      "    *   \n",
      "   * *  \n",
      "  * * * \n",
      " * * * *\n"
     ]
    }
   ],
   "source": [
    "n = int(input(\"Enter the number of rows: \"))\n",
    "for i in range(n+1):\n",
    "    print((\" *\"*i).center(n*2))\n"
   ]
  },
  {
   "cell_type": "code",
   "execution_count": 3,
   "metadata": {},
   "outputs": [
    {
     "name": "stdout",
     "output_type": "stream",
     "text": [
      "Enter the number of terms for Fibonacci Series: 5\n",
      "[0, 1, 1, 2, 3]\n"
     ]
    }
   ],
   "source": [
    "terms = int(input(\"Enter the number of terms for Fibonacci Series: \"))\n",
    "count = 2\n",
    "fibo = [0,1]\n",
    "while count!= terms:\n",
    "    fibo.append(fibo[count-1]+fibo[count-2])\n",
    "    count += 1\n",
    "print(fibo)"
   ]
  },
  {
   "cell_type": "code",
   "execution_count": 1,
   "metadata": {},
   "outputs": [
    {
     "name": "stdout",
     "output_type": "stream",
     "text": [
      "Enter the number of rows:4\n",
      "      * \n",
      "    * * \n",
      "  * * * \n",
      "* * * * \n"
     ]
    }
   ],
   "source": [
    "# This is the example of print simple reversed right angle pyramid pattern  \n",
    "rows = int(input(\"Enter the number of rows:\"))  \n",
    "k = 2 * rows - 2  # It is used for number of spaces  \n",
    "for i in range(0, rows):  \n",
    "    for j in range(0, k):  \n",
    "        print(end=\" \")  \n",
    "    k = k - 2   # decrement k value after each iteration  \n",
    "    for j in range(0, i + 1):  \n",
    "        print(\"* \", end=\"\")  # printing star  \n",
    "    print(\"\")  "
   ]
  },
  {
   "cell_type": "code",
   "execution_count": 4,
   "metadata": {},
   "outputs": [
    {
     "name": "stdout",
     "output_type": "stream",
     "text": [
      "Enter the no. of rows: 4\n",
      "   * \n",
      "  * * \n",
      " * * * \n",
      "* * * * \n"
     ]
    }
   ],
   "source": [
    "n = int(input(\"Enter the no. of rows: \"))\n",
    "k = n - 1\n",
    "for i in range(0, n):\n",
    "    for j in range(0, k):\n",
    "        print(end=\" \")\n",
    "    k = k - 1\n",
    "    for j in range(0, i+1):\n",
    "        print(\"* \", end=\"\")\n",
    "    print(\"\\r\")\n"
   ]
  },
  {
   "cell_type": "code",
   "execution_count": 1,
   "metadata": {},
   "outputs": [
    {
     "name": "stdout",
     "output_type": "stream",
     "text": [
      "15\n"
     ]
    }
   ],
   "source": [
    "a = 10\n",
    "def call():\n",
    "    global a\n",
    "    a = 15\n",
    "    b = 20\n",
    "    print(a)\n",
    "call()"
   ]
  },
  {
   "cell_type": "code",
   "execution_count": 4,
   "metadata": {},
   "outputs": [
    {
     "name": "stdout",
     "output_type": "stream",
     "text": [
      "1 1 1 1 1 \n",
      "2 2 2 2 \n",
      "3 3 3 \n",
      "4 4 \n",
      "5 \n",
      "\n"
     ]
    }
   ],
   "source": [
    "row=6\n",
    "for i in range(0,row):\n",
    "    for j in range(i+1,row):\n",
    "        print(i+1,end=\" \")\n",
    "    print()\n",
    "        "
   ]
  },
  {
   "cell_type": "code",
   "execution_count": null,
   "metadata": {},
   "outputs": [],
   "source": []
  }
 ],
 "metadata": {
  "kernelspec": {
   "display_name": "Python 3",
   "language": "python",
   "name": "python3"
  },
  "language_info": {
   "codemirror_mode": {
    "name": "ipython",
    "version": 3
   },
   "file_extension": ".py",
   "mimetype": "text/x-python",
   "name": "python",
   "nbconvert_exporter": "python",
   "pygments_lexer": "ipython3",
   "version": "3.9.6"
  },
  "vscode": {
   "interpreter": {
    "hash": "e3d921727fd142f159995321f554abb728fc3b584f7afa5859167818ca059b72"
   }
  }
 },
 "nbformat": 4,
 "nbformat_minor": 4
}
